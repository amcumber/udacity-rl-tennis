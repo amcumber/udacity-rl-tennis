{
 "cells": [
  {
   "cell_type": "markdown",
   "source": [
    "# Collaboration and Competition\n",
    "\n",
    "---\n",
    "\n",
    "In this notebook, you will learn how to use the Unity ML-Agents environment for the third project of the [Deep Reinforcement Learning Nanodegree](https://www.udacity.com/course/deep-reinforcement-learning-nanodegree--nd893) program.\n",
    "\n",
    "### 1. Start the Environment\n",
    "\n",
    "We begin by importing the necessary packages.  If the code cell below returns an error, please revisit the project instructions to double-check that you have installed [Unity ML-Agents](https://github.com/Unity-Technologies/ml-agents/blob/master/docs/Installation.md) and [NumPy](http://www.numpy.org/)."
   ],
   "metadata": {}
  },
  {
   "cell_type": "code",
   "execution_count": null,
   "source": [
    "!pip -q install ./python\r\n",
    "!pip -q install toml\r\n",
    "!pip -q install requests"
   ],
   "outputs": [],
   "metadata": {}
  },
  {
   "cell_type": "code",
   "execution_count": null,
   "source": [
    "from unityagents import UnityEnvironment\r\n",
    "import numpy as np"
   ],
   "outputs": [],
   "metadata": {}
  },
  {
   "cell_type": "markdown",
   "source": [
    "Next, we will start the environment!  **_Before running the code cell below_**, change the `file_name` parameter to match the location of the Unity environment that you downloaded.\n",
    "\n",
    "- **Mac**: `\"path/to/Tennis.app\"`\n",
    "- **Windows** (x86): `\"path/to/Tennis_Windows_x86/Tennis.exe\"`\n",
    "- **Windows** (x86_64): `\"path/to/Tennis_Windows_x86_64/Tennis.exe\"`\n",
    "- **Linux** (x86): `\"path/to/Tennis_Linux/Tennis.x86\"`\n",
    "- **Linux** (x86_64): `\"path/to/Tennis_Linux/Tennis.x86_64\"`\n",
    "- **Linux** (x86, headless): `\"path/to/Tennis_Linux_NoVis/Tennis.x86\"`\n",
    "- **Linux** (x86_64, headless): `\"path/to/Tennis_Linux_NoVis/Tennis.x86_64\"`\n",
    "\n",
    "For instance, if you are using a Mac, then you downloaded `Tennis.app`.  If this file is in the same folder as the notebook, then the line below should appear as follows:\n",
    "```\n",
    "env = UnityEnvironment(file_name=\"Tennis.app\")\n",
    "```"
   ],
   "metadata": {}
  },
  {
   "cell_type": "code",
   "execution_count": null,
   "source": [
    "# env = UnityEnvironment(file_name=\"...\")\r\n",
    "env = UnityEnvironment(file_name=\"/data/Tennis_Linux_NoVis/Tennis\")"
   ],
   "outputs": [],
   "metadata": {}
  },
  {
   "cell_type": "markdown",
   "source": [
    "Environments contain **_brains_** which are responsible for deciding the actions of their associated agents. Here we check for the first brain available, and set it as the default brain we will be controlling from Python."
   ],
   "metadata": {}
  },
  {
   "cell_type": "code",
   "execution_count": null,
   "source": [
    "# get the default brain\r\n",
    "brain_name = env.brain_names[0]\r\n",
    "brain = env.brains[brain_name]"
   ],
   "outputs": [],
   "metadata": {}
  },
  {
   "cell_type": "markdown",
   "source": [
    "### 2. Examine the State and Action Spaces\n",
    "\n",
    "In this environment, two agents control rackets to bounce a ball over a net. If an agent hits the ball over the net, it receives a reward of +0.1.  If an agent lets a ball hit the ground or hits the ball out of bounds, it receives a reward of -0.01.  Thus, the goal of each agent is to keep the ball in play.\n",
    "\n",
    "The observation space consists of 8 variables corresponding to the position and velocity of the ball and racket. Two continuous actions are available, corresponding to movement toward (or away from) the net, and jumping. \n",
    "\n",
    "Run the code cell below to print some information about the environment."
   ],
   "metadata": {}
  },
  {
   "cell_type": "code",
   "execution_count": null,
   "source": [
    "# reset the environment\r\n",
    "env_info = env.reset(train_mode=True)[brain_name]\r\n",
    "\r\n",
    "# number of agents \r\n",
    "num_agents = len(env_info.agents)\r\n",
    "print('Number of agents:', num_agents)\r\n",
    "\r\n",
    "# size of each action\r\n",
    "action_size = brain.vector_action_space_size\r\n",
    "print('Size of each action:', action_size)\r\n",
    "\r\n",
    "# examine the state space \r\n",
    "states = env_info.vector_observations\r\n",
    "state_size = states.shape[1]\r\n",
    "print('There are {} agents. Each observes a state with length: {}'.format(states.shape[0], state_size))\r\n",
    "print('The state for the first agent looks like:', states[0])"
   ],
   "outputs": [],
   "metadata": {}
  },
  {
   "cell_type": "markdown",
   "source": [
    "### 3. Take Random Actions in the Environment\n",
    "\n",
    "In the next code cell, you will learn how to use the Python API to control the agents and receive feedback from the environment.\n",
    "\n",
    "Once this cell is executed, you will watch the agents' performance, if they select actions at random with each time step.  A window should pop up that allows you to observe the agents.\n",
    "\n",
    "Of course, as part of the project, you'll have to change the code so that the agents are able to use their experiences to gradually choose better actions when interacting with the environment!"
   ],
   "metadata": {}
  },
  {
   "cell_type": "code",
   "execution_count": null,
   "source": [
    "for i in range(1, 6):                                      # play game for 5 episodes\r\n",
    "    env_info = env.reset(train_mode=False)[brain_name]     # reset the environment    \r\n",
    "    states = env_info.vector_observations                  # get the current state (for each agent)\r\n",
    "    scores = np.zeros(num_agents)                          # initialize the score (for each agent)\r\n",
    "    while True:\r\n",
    "        actions = np.random.randn(num_agents, action_size) # select an action (for each agent)\r\n",
    "        actions = np.clip(actions, -1, 1)                  # all actions between -1 and 1\r\n",
    "        env_info = env.step(actions)[brain_name]           # send all actions to tne environment\r\n",
    "        next_states = env_info.vector_observations         # get next state (for each agent)\r\n",
    "        rewards = env_info.rewards                         # get reward (for each agent)\r\n",
    "        dones = env_info.local_done                        # see if episode finished\r\n",
    "        scores += env_info.rewards                         # update the score (for each agent)\r\n",
    "        states = next_states                               # roll over states to next time step\r\n",
    "        if np.any(dones):                                  # exit loop if episode finished\r\n",
    "            break\r\n",
    "    print('Score (max over agents) from episode {}: {}'.format(i, np.max(scores)))"
   ],
   "outputs": [],
   "metadata": {}
  },
  {
   "cell_type": "markdown",
   "source": [
    "When finished, you can close the environment."
   ],
   "metadata": {}
  },
  {
   "cell_type": "code",
   "execution_count": null,
   "source": [
    "env.close()"
   ],
   "outputs": [],
   "metadata": {}
  },
  {
   "cell_type": "markdown",
   "source": [
    "### 4. It's Your Turn!\n",
    "\n",
    "Now it's your turn to train your own agent to solve the environment!  When training the environment, set `train_mode=True`, so that the line for resetting the environment looks like the following:\n",
    "```python\n",
    "env_info = env.reset(train_mode=True)[brain_name]\n",
    "```"
   ],
   "metadata": {}
  },
  {
   "cell_type": "code",
   "execution_count": null,
   "source": [
    "import matplotlib.pyplot as plt\r\n",
    "import seaborn as sns\r\n",
    "\r\n",
    "from tennis_agents.unity_environments import UnityEnvMgr\r\n",
    "from tennis_agents.trainers import TennisTrainer\r\n",
    "from reacher_agents.ddpg_agent import DDPGAgent\r\n",
    "\r\n",
    "def main():\r\n",
    "    root_name = 'unity'\r\n",
    "    file_name = 'envs/Reacher_Windows_x86_64-twenty-agents/Reacher.exe'\r\n",
    "    Trainer = TennisTrainer\r\n",
    "    upper_bound = 1.0\r\n",
    "    state_size = np.nan\r\n",
    "    action_size = np.nan\r\n",
    "\r\n",
    "    if CLOUD:\r\n",
    "        file_name='/data/Reacher_One_Linux_NoVis/Reacher_One_Linux_NoVis.x86_64'\r\n",
    "        file_name='/data/Reacher_Linux_NoVis/Reacher.x86_64'\r\n",
    "    envh = UnityEnvMgr(file_name)\r\n",
    "\r\n",
    "    device = torch.device(\"cuda:0\" if torch.cuda.is_available() else \"cpu\")\r\n",
    "    # torch.device(\"cpu\")\r\n",
    "    agents = [DDPGAgent(\r\n",
    "        state_size=state_size,\r\n",
    "        action_size=action_size,\r\n",
    "        buffer_size=BUFFER_SIZE,\r\n",
    "        batch_size=BATCH_SIZE,\r\n",
    "        gamma=GAMMA,\r\n",
    "        tau=TAU,\r\n",
    "        lr_actor=LR_ACTOR,\r\n",
    "        lr_critic=LR_CRITIC,\r\n",
    "        learn_f=LEARN_F,\r\n",
    "        weight_decay=WEIGHT_DECAY,\r\n",
    "        device=device,\r\n",
    "        random_seed=42,\r\n",
    "        upper_bound=upper_bound,\r\n",
    "        actor_hidden=ACTOR_HIDDEN,\r\n",
    "        critic_hidden=CRITIC_HIDDEN,\r\n",
    "        add_noise=ADD_NOISE[idx],\r\n",
    "    ) for idx in range(N_AGENTS)]\r\n",
    "    trainer = Trainer(\r\n",
    "        agents=agents,\r\n",
    "        env=envh,\r\n",
    "        n_episodes=N_EPISODES,\r\n",
    "        max_t=MAX_T,\r\n",
    "        window_len=WINDOW_LEN,\r\n",
    "        solved=solved,\r\n",
    "        save_root=root_name,\r\n",
    "    )\r\n",
    "    return envh, trainer\r\n",
    "\r\n",
    "def plot_scores(scores, i_map=0):\r\n",
    "    sns.set_style('darkgrid')\r\n",
    "    sns.set_context('talk')\r\n",
    "    sns.set_palette('Paired')\r\n",
    "    cmap = sns.color_palette('Paired')\r\n",
    "\r\n",
    "    scores = np.array(scores).squeeze()\r\n",
    "    score_df = pd.DataFrame({'scores': scores})\r\n",
    "    score_df = score_df.assign(mean=lambda df: df.rolling(10).mean()['scores'])\r\n",
    "\r\n",
    "    _ ,ax = plt.subplots(1,1, figsize=(10,8))\r\n",
    "\r\n",
    "    ax = score_df.plot(ax=ax, color=cmap[2*(i_map%4):])\r\n",
    "    ax.set_title(f'DDPG Scores vs Time (LR=({LR_ACTOR:.1e}, {LR_CRITIC:.1e}), Lf={LEARN_F})')\r\n",
    "    ax.set_xlabel('Episode #')\r\n",
    "    ax.set_ylabel('Score')\r\n",
    "    plt.show()\r\n"
   ],
   "outputs": [],
   "metadata": {}
  },
  {
   "cell_type": "code",
   "execution_count": null,
   "source": [
    "envh, trainer = main()"
   ],
   "outputs": [],
   "metadata": {}
  },
  {
   "cell_type": "code",
   "execution_count": null,
   "source": [
    "trainer.agent.device"
   ],
   "outputs": [],
   "metadata": {}
  },
  {
   "cell_type": "code",
   "execution_count": null,
   "source": [
    "display(trainer.agent[0].actor_local)\r\n",
    "display(trainer.agent[0].critic_local)"
   ],
   "outputs": [],
   "metadata": {}
  },
  {
   "cell_type": "code",
   "execution_count": null,
   "source": [
    "scores = trainer.train(save_all=True, is_cloud=CLOUD)"
   ],
   "outputs": [],
   "metadata": {}
  },
  {
   "cell_type": "code",
   "execution_count": null,
   "source": [
    "plot_scores(scores)"
   ],
   "outputs": [],
   "metadata": {}
  },
  {
   "cell_type": "code",
   "execution_count": null,
   "source": [
    "trainer.save_scores('scores-checkpoint.pkl')"
   ],
   "outputs": [],
   "metadata": {}
  }
 ],
 "metadata": {
  "kernelspec": {
   "display_name": "Python 3",
   "language": "python",
   "name": "python3"
  },
  "language_info": {
   "codemirror_mode": {
    "name": "ipython",
    "version": 3
   },
   "file_extension": ".py",
   "mimetype": "text/x-python",
   "name": "python",
   "nbconvert_exporter": "python",
   "pygments_lexer": "ipython3",
   "version": "3.6.4"
  }
 },
 "nbformat": 4,
 "nbformat_minor": 2
}