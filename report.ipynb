{
 "cells": [
  {
   "cell_type": "markdown",
   "source": [
    "# Collaboration and Competition\n",
    "\n",
    "---\n",
    "\n",
    "In this notebook, you will learn how to use the Unity ML-Agents environment for the third project of the [Deep Reinforcement Learning Nanodegree](https://www.udacity.com/course/deep-reinforcement-learning-nanodegree--nd893) program.\n",
    "\n",
    "### 1. Start the Environment\n",
    "\n",
    "We begin by importing the necessary packages.  If the code cell below returns an error, please revisit the project instructions to double-check that you have installed [Unity ML-Agents](https://github.com/Unity-Technologies/ml-agents/blob/master/docs/Installation.md) and [NumPy](http://www.numpy.org/)."
   ],
   "metadata": {}
  },
  {
   "cell_type": "code",
   "execution_count": 1,
   "source": [
    "CLOUD = False\r\n",
    "if CLOUD: \r\n",
    "    !pip -q install ./python\r\n",
    "    !pip -q install toml\r\n",
    "    !pip -q install requests\r\n",
    "    !pip freeze > requirements.txt\r\n",
    "    !mkdir -p runs/"
   ],
   "outputs": [],
   "metadata": {}
  },
  {
   "cell_type": "code",
   "execution_count": 2,
   "source": [
    "# from unityagents import UnityEnvironment\r\n",
    "# import numpy as np"
   ],
   "outputs": [],
   "metadata": {}
  },
  {
   "cell_type": "markdown",
   "source": [
    "Next, we will start the environment!  **_Before running the code cell below_**, change the `file_name` parameter to match the location of the Unity environment that you downloaded.\n",
    "\n",
    "- **Mac**: `\"path/to/Tennis.app\"`\n",
    "- **Windows** (x86): `\"path/to/Tennis_Windows_x86/Tennis.exe\"`\n",
    "- **Windows** (x86_64): `\"path/to/Tennis_Windows_x86_64/Tennis.exe\"`\n",
    "- **Linux** (x86): `\"path/to/Tennis_Linux/Tennis.x86\"`\n",
    "- **Linux** (x86_64): `\"path/to/Tennis_Linux/Tennis.x86_64\"`\n",
    "- **Linux** (x86, headless): `\"path/to/Tennis_Linux_NoVis/Tennis.x86\"`\n",
    "- **Linux** (x86_64, headless): `\"path/to/Tennis_Linux_NoVis/Tennis.x86_64\"`\n",
    "\n",
    "For instance, if you are using a Mac, then you downloaded `Tennis.app`.  If this file is in the same folder as the notebook, then the line below should appear as follows:\n",
    "```\n",
    "env = UnityEnvironment(file_name=\"Tennis.app\")\n",
    "```"
   ],
   "metadata": {}
  },
  {
   "cell_type": "code",
   "execution_count": 3,
   "source": [
    "# env = UnityEnvironment(file_name=\"...\")\r\n",
    "# env = UnityEnvironment(file_name=\"envs/Tennis_Windows_x86_64/Tennis.exe\")"
   ],
   "outputs": [],
   "metadata": {}
  },
  {
   "cell_type": "markdown",
   "source": [
    "Environments contain **_brains_** which are responsible for deciding the actions of their associated agents. Here we check for the first brain available, and set it as the default brain we will be controlling from Python."
   ],
   "metadata": {}
  },
  {
   "cell_type": "markdown",
   "source": [
    "### 2. Examine the State and Action Spaces\n",
    "\n",
    "In this environment, two agents control rackets to bounce a ball over a net. If an agent hits the ball over the net, it receives a reward of +0.1.  If an agent lets a ball hit the ground or hits the ball out of bounds, it receives a reward of -0.01.  Thus, the goal of each agent is to keep the ball in play.\n",
    "\n",
    "The observation space consists of 8 variables corresponding to the position and velocity of the ball and racket. Two continuous actions are available, corresponding to movement toward (or away from) the net, and jumping. \n",
    "\n",
    "Run the code cell below to print some information about the environment."
   ],
   "metadata": {}
  },
  {
   "cell_type": "markdown",
   "source": [
    "### 3. Take Random Actions in the Environment\n",
    "\n",
    "In the next code cell, you will learn how to use the Python API to control the agents and receive feedback from the environment.\n",
    "\n",
    "Once this cell is executed, you will watch the agents' performance, if they select actions at random with each time step.  A window should pop up that allows you to observe the agents.\n",
    "\n",
    "Of course, as part of the project, you'll have to change the code so that the agents are able to use their experiences to gradually choose better actions when interacting with the environment!"
   ],
   "metadata": {}
  },
  {
   "cell_type": "markdown",
   "source": [
    "When finished, you can close the environment."
   ],
   "metadata": {}
  },
  {
   "cell_type": "code",
   "execution_count": 4,
   "source": [
    "# env.close()"
   ],
   "outputs": [],
   "metadata": {}
  },
  {
   "cell_type": "markdown",
   "source": [
    "### 4. It's Your Turn!\n",
    "\n",
    "Now it's your turn to train your own agent to solve the environment!  When training the environment, set `train_mode=True`, so that the line for resetting the environment looks like the following:\n",
    "```python\n",
    "env_info = env.reset(train_mode=True)[brain_name]\n",
    "```"
   ],
   "metadata": {}
  },
  {
   "cell_type": "code",
   "execution_count": 13,
   "source": [
    "import matplotlib.pyplot as plt\r\n",
    "import seaborn as sns\r\n",
    "\r\n",
    "from tennis_agents.factory import TennisFactory\r\n",
    "from tennis_agents.workspace_utils import active_session\r\n",
    "from tennis_agents.plotting import plot_scores"
   ],
   "outputs": [],
   "metadata": {}
  },
  {
   "cell_type": "code",
   "execution_count": 6,
   "source": [
    "# Inst classes\r\n",
    "factory = TennisFactory()\r\n",
    "data = factory.read_toml('config.toml')\r\n",
    "envh = factory.get_environment_manager(data)"
   ],
   "outputs": [],
   "metadata": {}
  },
  {
   "cell_type": "code",
   "execution_count": 48,
   "source": [
    "\r\n",
    "# Separate run instance if reload config\r\n",
    "data = factory.read_toml('config.toml')\r\n",
    "maddpg = factory.get_agent(data)\r\n",
    "trainer = factory.get_trainer(data, envh, maddpg)\r\n"
   ],
   "outputs": [],
   "metadata": {}
  },
  {
   "cell_type": "code",
   "execution_count": 49,
   "source": [
    "display(data)"
   ],
   "outputs": [
    {
     "output_type": "display_data",
     "data": {
      "text/plain": [
       "{'environment': {'ENV_FILE': 'envs\\\\Tennis_Windows_x86_64\\\\Tennis.exe',\n",
       "  'STATE_SIZE': 24,\n",
       "  'ACTION_SIZE': 2,\n",
       "  'UPPER_BOUND': 1.0,\n",
       "  'SOLVED': 0.5,\n",
       "  'ROOT_NAME': 'tennis',\n",
       "  'SEED': 42},\n",
       " 'trainer': {'N_EPISODES': 2000, 'MAX_T': 2000, 'WINDOW_LEN': 100},\n",
       " 'memory': {'BATCH_SIZE': 32, 'BUFFER_SIZE': 200000},\n",
       " 'agent': {'N_AGENTS': 2,\n",
       "  'LEARN_F': 1,\n",
       "  'GAMMA': 0.99,\n",
       "  'TAU': 0.001,\n",
       "  'LR_ACTOR': 0.0002,\n",
       "  'LR_CRITIC': 0.0002,\n",
       "  'WEIGHT_DECAY': 1e-06,\n",
       "  'ACTOR_HIDDEN': [128, 128],\n",
       "  'CRITIC_HIDDEN': [128, 128],\n",
       "  'ACTOR_ACT': 'relu',\n",
       "  'CRITIC_ACT': 'leaky_relu',\n",
       "  'ADD_NOISE': [True, True],\n",
       "  'BATCH_NORM': True},\n",
       " 'noise': {},\n",
       " 'OU': {'SIGMA': 0.01, 'MU': 0.0, 'THETA': 0.15},\n",
       " 'AP': {'INITIAL_STD': 0.1, 'DESIRED_ACTION_STD': 0.1, 'ADOPTION_COEF': 1.01}}"
      ]
     },
     "metadata": {}
    }
   ],
   "metadata": {}
  },
  {
   "cell_type": "code",
   "execution_count": 50,
   "source": [
    "trainer.magent.agents[0].device\r\n"
   ],
   "outputs": [
    {
     "output_type": "execute_result",
     "data": {
      "text/plain": [
       "device(type='cuda', index=0)"
      ]
     },
     "metadata": {},
     "execution_count": 50
    }
   ],
   "metadata": {}
  },
  {
   "cell_type": "code",
   "execution_count": 51,
   "source": [
    "display(trainer.magent.agents[0].actor_local)\r\n",
    "display(trainer.magent.agents[0].critic_local)"
   ],
   "outputs": [
    {
     "output_type": "display_data",
     "data": {
      "text/plain": [
       "DDPGActor(\n",
       "  (fc1): Linear(in_features=24, out_features=128, bias=True)\n",
       "  (fc2): Linear(in_features=128, out_features=128, bias=True)\n",
       "  (fc3): Linear(in_features=128, out_features=2, bias=True)\n",
       "  (bn1): BatchNorm1d(24, eps=1e-05, momentum=0.1, affine=True, track_running_stats=True)\n",
       "  (bn2): BatchNorm1d(128, eps=1e-05, momentum=0.1, affine=True, track_running_stats=True)\n",
       "  (bn3): BatchNorm1d(128, eps=1e-05, momentum=0.1, affine=True, track_running_stats=True)\n",
       ")"
      ]
     },
     "metadata": {}
    },
    {
     "output_type": "display_data",
     "data": {
      "text/plain": [
       "DDPGCritic(\n",
       "  (fc1): Linear(in_features=24, out_features=128, bias=True)\n",
       "  (fc2): Linear(in_features=130, out_features=128, bias=True)\n",
       "  (fc3): Linear(in_features=128, out_features=1, bias=True)\n",
       "  (bn1): BatchNorm1d(24, eps=1e-05, momentum=0.1, affine=True, track_running_stats=True)\n",
       "  (bn2): BatchNorm1d(130, eps=1e-05, momentum=0.1, affine=True, track_running_stats=True)\n",
       "  (bn3): BatchNorm1d(128, eps=1e-05, momentum=0.1, affine=True, track_running_stats=True)\n",
       ")"
      ]
     },
     "metadata": {}
    }
   ],
   "metadata": {}
  },
  {
   "cell_type": "code",
   "execution_count": 52,
   "source": [
    "if CLOUD:\r\n",
    "    with active_session():\r\n",
    "        scores = trainer.train()\r\n",
    "else:\r\n",
    "    scores = trainer.train()"
   ],
   "outputs": [
    {
     "output_type": "stream",
     "name": "stderr",
     "text": [
      "D:\\ProgramData\\miniconda3\\envs\\drlnd\\lib\\site-packages\\torch\\nn\\functional.py:1794: UserWarning: nn.functional.tanh is deprecated. Use torch.tanh instead.\n",
      "  warnings.warn(\"nn.functional.tanh is deprecated. Use torch.tanh instead.\")\n"
     ]
    },
    {
     "output_type": "stream",
     "name": "stdout",
     "text": [
      "Ep 100\tMean (ep): 0.0009\tBest (all): 0.0900\tMean (window): 0.0009\n",
      "Ep 200\tMean (ep): 0.0010\tBest (all): 0.1000\tMean (window): 0.0010\n",
      "Ep 300\tMean (ep): 0.0006\tBest (all): 0.1000\tMean (window): 0.0000\n",
      "Ep 400\tMean (ep): 0.0005\tBest (all): 0.1000\tMean (window): 0.0000\n",
      "Ep 500\tMean (ep): 0.0006\tBest (all): 0.1000\tMean (window): 0.0010\n",
      "Ep 600\tMean (ep): 0.0005\tBest (all): 0.1000\tMean (window): 0.0000\n",
      "Ep 700\tMean (ep): 0.0011\tBest (all): 0.1000\tMean (window): 0.0047\n",
      "Ep 800\tMean (ep): 0.0013\tBest (all): 0.1000\tMean (window): 0.0029\n",
      "Ep 900\tMean (ep): 0.0015\tBest (all): 0.1000\tMean (window): 0.0030\n",
      "Ep 1000\tMean (ep): 0.0018\tBest (all): 0.1000\tMean (window): 0.0049\n",
      "Ep 1100\tMean (ep): 0.0023\tBest (all): 0.1000\tMean (window): 0.0066\n",
      "Ep 1200\tMean (ep): 0.0024\tBest (all): 0.1000\tMean (window): 0.0040\n",
      "Ep 1300\tMean (ep): 0.0030\tBest (all): 0.2000\tMean (window): 0.0098\n",
      "Ep 1400\tMean (ep): 0.0038\tBest (all): 0.2000\tMean (window): 0.0147\n",
      "Ep 1500\tMean (ep): 0.0050\tBest (all): 0.2000\tMean (window): 0.0208\n",
      "Ep 1600\tMean (ep): 0.0062\tBest (all): 0.2000\tMean (window): 0.0254\n",
      "Ep 1700\tMean (ep): 0.0080\tBest (all): 0.2000\tMean (window): 0.0363\n",
      "Ep 1800\tMean (ep): 0.0094\tBest (all): 0.2000\tMean (window): 0.0330\n",
      "Ep 1900\tMean (ep): 0.0097\tBest (all): 0.2000\tMean (window): 0.0150\n",
      "Ep 2000\tMean (ep): 0.0101\tBest (all): 0.2000\tMean (window): 0.0180\n"
     ]
    }
   ],
   "metadata": {}
  },
  {
   "cell_type": "code",
   "execution_count": 53,
   "source": [
    "plot_scores(scores)"
   ],
   "outputs": [
    {
     "output_type": "display_data",
     "data": {
      "image/png": "[encoded data removed]",
      "text/plain": [
       "<Figure size 720x576 with 1 Axes>"
      ]
     },
     "metadata": {}
    }
   ],
   "metadata": {}
  },
  {
   "cell_type": "code",
   "execution_count": 58,
   "source": [
    "fig = plt.gcf()\r\n",
    "fig.savefig('runs/last_run.png');"
   ],
   "outputs": [
    {
     "output_type": "display_data",
     "data": {
      "text/plain": [
       "<Figure size 432x288 with 0 Axes>"
      ]
     },
     "metadata": {}
    }
   ],
   "metadata": {}
  },
  {
   "cell_type": "code",
   "execution_count": 54,
   "source": [
    "trainer.save_scores('runs/scores-checkpoint.pkl')"
   ],
   "outputs": [],
   "metadata": {}
  }
 ],
 "metadata": {
  "kernelspec": {
   "name": "python3",
   "display_name": "Python 3.6.13 64-bit ('drlnd': conda)"
  },
  "language_info": {
   "codemirror_mode": {
    "name": "ipython",
    "version": 3
   },
   "file_extension": ".py",
   "mimetype": "text/x-python",
   "name": "python",
   "nbconvert_exporter": "python",
   "pygments_lexer": "ipython3",
   "version": "3.6.13"
  },
  "interpreter": {
   "hash": "15e440525741b4b683536cf3da481e83dd46ee608086a17f4cdb272058241969"
  }
 },
 "nbformat": 4,
 "nbformat_minor": 2
}