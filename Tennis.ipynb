{
 "cells": [
  {
   "cell_type": "markdown",
   "source": [
    "# Collaboration and Competition\r\n",
    "\r\n",
    "---\r\n",
    "\r\n",
    "In this notebook, you will learn how to use the Unity ML-Agents environment for the third project of the [Deep Reinforcement Learning Nanodegree](https://www.udacity.com/course/deep-reinforcement-learning-nanodegree--nd893) program.\r\n",
    "\r\n",
    "### 1. Start the Environment\r\n",
    "\r\n",
    "We begin by importing the necessary packages.  If the code cell below returns an error, please revisit the project instructions to double-check that you have installed [Unity ML-Agents](https://github.com/Unity-Technologies/ml-agents/blob/master/docs/Installation.md) and [NumPy](http://www.numpy.org/).\r\n",
    "\r\n",
    "The `CLOUD` parameter is a for installing the requirements within a controlled\r\n",
    "environment such as the Udacity environment such that you can run the program.\r\n",
    "If you have the requirements installed per the README - set `CLOUD = False`"
   ],
   "metadata": {}
  },
  {
   "cell_type": "code",
   "execution_count": 1,
   "source": [
    "CLOUD = True\r\n",
    "if CLOUD: \r\n",
    "    !pip -q install ./python\r\n",
    "    !pip -q install toml\r\n",
    "    !pip -q install requests\r\n",
    "    !pip freeze > requirements.txt\r\n",
    "    !mkdir -p runs/"
   ],
   "outputs": [
    {
     "output_type": "stream",
     "name": "stdout",
     "text": [
      "\u001b[31mtensorflow 1.7.1 has requirement numpy>=1.13.3, but you'll have numpy 1.12.1 which is incompatible.\u001b[0m\r\n",
      "\u001b[31mipython 6.5.0 has requirement prompt-toolkit<2.0.0,>=1.0.15, but you'll have prompt-toolkit 3.0.20 which is incompatible.\u001b[0m\r\n"
     ]
    }
   ],
   "metadata": {}
  },
  {
   "cell_type": "markdown",
   "source": [
    "Next, we will start the environment!  **_Before running the code cell below_**, change the `file_name` parameter to match the location of the Unity environment that you downloaded.\n",
    "\n",
    "- **Mac**: `\"path/to/Tennis.app\"`\n",
    "- **Windows** (x86): `\"path/to/Tennis_Windows_x86/Tennis.exe\"`\n",
    "- **Windows** (x86_64): `\"path/to/Tennis_Windows_x86_64/Tennis.exe\"`\n",
    "- **Linux** (x86): `\"path/to/Tennis_Linux/Tennis.x86\"`\n",
    "- **Linux** (x86_64): `\"path/to/Tennis_Linux/Tennis.x86_64\"`\n",
    "- **Linux** (x86, headless): `\"path/to/Tennis_Linux_NoVis/Tennis.x86\"`\n",
    "- **Linux** (x86_64, headless): `\"path/to/Tennis_Linux_NoVis/Tennis.x86_64\"`\n",
    "\n",
    "For instance, if you are using a Mac, then you downloaded `Tennis.app`.  If this file is in the same folder as the notebook, then the line below should appear as follows:\n",
    "```\n",
    "env = UnityEnvironment(file_name=\"Tennis.app\")\n",
    "```"
   ],
   "metadata": {}
  },
  {
   "cell_type": "markdown",
   "source": [
    "### 4. It's Your Turn!\n",
    "\n",
    "Now it's your turn to train your own agent to solve the environment!  When training the environment, set `train_mode=True`, so that the line for resetting the environment looks like the following:\n",
    "```python\n",
    "env_info = env.reset(train_mode=True)[brain_name]\n",
    "```"
   ],
   "metadata": {}
  },
  {
   "cell_type": "markdown",
   "source": [
    "## Tennis - Solution\r\n",
    "\r\n",
    "Once you have your environment established - you can now train the Multi-agent\r\n",
    "but first, let's describe the approach.\r\n",
    "\r\n",
    "### Project Architecture\r\n",
    "\r\n",
    "Much of the solution is leveraged from the [Continuous Control Project](https://github.com/amcumber/udacity-rl-continuous-control).\r\n",
    "As such, much of the the same structure where three primary classes are\r\n",
    "used the `EnvironmentMgr`, `Trainer`, and the `Agent`\r\n",
    "\r\n",
    "1. `EnvironmentMgr` - Each `EnvironmentMgr` class contains common commands the\r\n",
    "   `Trainer` can interface with to command the environment to `start`, `step`,\r\n",
    "   `reset`, `get_evn`, and `close`.\r\n",
    "   \r\n",
    "2. `Trainer` - This class is intended to hold all of the properties for the\r\n",
    "   experiment and manipulate both the `Agent` and the `Environment`.\r\n",
    "   \r\n",
    "3. `Agent` - This is the class that holds the reinforcement learning agent and\r\n",
    "   maintains a similar structure to other implementations with minor edits for\r\n",
    "   function encapsulation.\r\n",
    "\r\n",
    "#### Agent Selection\r\n",
    "\r\n",
    "Similarly, Deep Deterministic Policy Gradient (DDPG) agents were selected\r\n",
    "for this solution, however, due to the nature of the problem, multi-agent\r\n",
    "was selected. To do so, the `ReplayBuffer` was shared between the two\r\n",
    "agents in order to play the game.\r\n",
    "\r\n",
    "In order to allow state exploration, two approaches were attempted.\r\n",
    "First a version of [Parameter Noise](https://openai.com/blog/better-exploration-with-parameter-noise/)\r\n",
    "was first implemented with the mult-agent DDPG, but ultimately was scratched\r\n",
    "due to a few bugs in the code and little reference architectures to compare\r\n",
    "against. Instead, another version of the Ornstein-Uhlenbeck (OU) process \r\n",
    "was implemented to the action noise of the model. Additionally, noise-decay\r\n",
    "was not implemented in the final solution due to increased performance observed\r\n",
    "with OU noise at longer time steps (for this specific application).\r\n",
    "\r\n",
    "#### DDPG\r\n",
    "\r\n",
    "DDPG originally proposed in the \r\n",
    "[2016 Google Deepmind Paper](https://arxiv.org/pdf/1509.02971.pdf)\r\n",
    "proposes a DPG method applying Q-learning. The architecture consists of two \r\n",
    "deep networks, an Actor and a Critic. The Actor determines the action provided\r\n",
    "the environment state. The Critic rates the Actor's action as good or bad \r\n",
    "provided the state and the actor's action. Both the actor and critic maintain\r\n",
    "two networks each as a local and a target network. Where the best action is\r\n",
    "selected from the target action and the local network learns from the response.\r\n",
    "Over the course of training the target network will be updated using a \r\n",
    "`soft_update` algorithm where a parameter $\\tau$ dictates the percent weight of\r\n",
    "the local network to update to the target network.\r\n",
    "\r\n",
    "#### Neural Network Model Architecture\r\n",
    "\r\n",
    "After reviewing several times with fellow students and discussing with mentors\r\n",
    "within the forums. I've selected an `Actor` Model consisting of `3` fully \r\n",
    "connected layers with hidden layers of `256` and `128` units wide and input\r\n",
    "units equal to the state size and output units equal to the action size. For\r\n",
    "the `Critic` Model, I've constructed a `3` fully connected model again with\r\n",
    "hidden layers equal to `256` and `128` units wide, but following the \r\n",
    "recommendation of Agents of this structure to inject the states as inputs into\r\n",
    "the first layer and actions into the second. Finally, outputting a single node.\r\n",
    "\r\n",
    "Similar to the [Original DDPG paper](https://arxiv.org/pdf/1509.02971.pdf), \r\n",
    "similar deep architectures were constructed for the Actor and Critic. For \r\n",
    "activation functions, the `ReLU` function was used for the `Actor` to \r\n",
    "minimize complexity and the hyperbolic tangent function (`tanh`) was used as\r\n",
    "output for the `Actor`. The tanh function provides a continuous space \r\n",
    "between action bounds for the actor to select from. The `Critic` maintains a\r\n",
    "similar architecture to the architecture provided in the paper where the \r\n",
    "environment state is passed into a fully connected (FC) layer and the following\r\n",
    "hidden layer ingests the output of that FC layer plus the action of the Actor.\r\n",
    "The output of the Critic is simply a single node used to determine if the \r\n",
    "action was good or bad.\r\n",
    "\r\n",
    "Weights were initialized using uniform distribution from \r\n",
    "$\\mp\\frac{1}{\\sqrt{N_{input}}}$ for all of the nodes save for the final node\r\n",
    "where a uniform distribution between $\\mp3e-3$ was established.\r\n",
    "\r\n",
    "With the primary architecture described, now let's load the packages and \r\n",
    "hyperparameters to discuss further"
   ],
   "metadata": {}
  },
  {
   "cell_type": "markdown",
   "source": [
    "## Load Packages"
   ],
   "metadata": {}
  },
  {
   "cell_type": "code",
   "execution_count": 5,
   "source": [
    "import matplotlib.pyplot as plt\r\n",
    "import seaborn as sns\r\n",
    "\r\n",
    "from tennis_agents.factory import TennisFactory\r\n",
    "from tennis_agents.workspace_utils import active_session\r\n",
    "from tennis_agents.plotting import plot_scores"
   ],
   "outputs": [],
   "metadata": {}
  },
  {
   "cell_type": "code",
   "execution_count": 6,
   "source": [
    "# Inst classes\r\n",
    "factory = TennisFactory()\r\n",
    "data = factory.read_toml('config.toml')\r\n",
    "envh = factory.get_environment_manager(data)"
   ],
   "outputs": [],
   "metadata": {}
  },
  {
   "cell_type": "markdown",
   "source": [
    "#### Intermediate Run Break\r\n",
    "\r\n",
    "Run from here if rerunning the same environment."
   ],
   "metadata": {}
  },
  {
   "cell_type": "code",
   "execution_count": 7,
   "source": [
    "# Separate run instance if reload config\r\n",
    "data = factory.read_toml('config.toml')\r\n",
    "maddpg = factory.get_agent(data)\r\n",
    "trainer = factory.get_trainer(data, envh, maddpg)\r\n"
   ],
   "outputs": [],
   "metadata": {}
  },
  {
   "cell_type": "markdown",
   "source": [
    "## Actor / Critic Structure\r\n",
    "\r\n",
    "Both the Actor and Critic were selected to have 3 fully connected layers.\r\n",
    "Though the model displays 3 Batch Normalization layers, only `bn2` was used\r\n",
    "in the solution. The additional layers were kept to allow easy experimentation\r\n",
    "between structures.\r\n",
    "\r\n",
    "```python\r\n",
    "class Actor:\r\n",
    "    #...\r\n",
    "    def forward(self, state):\r\n",
    "        \"\"\"Build an actor (policy) network that maps states -> actions.\"\"\"\r\n",
    "        x = state\r\n",
    "        # x = self.bn1(x)\r\n",
    "        x = self.fc1(x)\r\n",
    "        x = self.act_func(x)\r\n",
    "        x = self.bn2(x)\r\n",
    "        x = self.fc2(x)\r\n",
    "        x = self.act_func(x)\r\n",
    "        # x = self.bn3(x)\r\n",
    "        x = self.fc3(x)\r\n",
    "        x = torch.tanh(x) * self.upper_bound\r\n",
    "        return x\r\n",
    "\r\n",
    "```\r\n",
    "\r\n",
    "The Critic has an additional dropout layer that was implemented between fc2 and\r\n",
    "fc3. This addition was suggested by a couple of students for improved performance.\r\n",
    "\r\n",
    "```python\r\n",
    "class Critic:\r\n",
    "    # ...\r\n",
    "    def forward(self, state, action):\r\n",
    "        \"\"\"\r\n",
    "        Build a critic (value) network that maps (state, action)\r\n",
    "        pairs -> Q-values.\r\n",
    "        \"\"\"\r\n",
    "        x = state\r\n",
    "        # x = self.bn1(x)\r\n",
    "        x = self.fc1(x)\r\n",
    "        x = self.act_func(x)\r\n",
    "        x = torch.cat((x, action), dim=1)\r\n",
    "        x = self.bn2(x)\r\n",
    "        x = self.fc2(x)\r\n",
    "        x = self.act_func(x)\r\n",
    "        # x = self.bn3(x)\r\n",
    "        x = self.drop(x)\r\n",
    "        x = self.fc3(x)\r\n",
    "        return x\r\n",
    "```"
   ],
   "metadata": {}
  },
  {
   "cell_type": "code",
   "execution_count": 8,
   "source": [
    "maddpg.agents[0].actor_local"
   ],
   "outputs": [
    {
     "output_type": "execute_result",
     "data": {
      "text/plain": [
       "DDPGActor(\n",
       "  (fc1): Linear(in_features=24, out_features=128, bias=True)\n",
       "  (fc2): Linear(in_features=128, out_features=64, bias=True)\n",
       "  (fc3): Linear(in_features=64, out_features=2, bias=True)\n",
       "  (bn1): BatchNorm1d(24, eps=1e-05, momentum=0.1, affine=True, track_running_stats=True)\n",
       "  (bn2): BatchNorm1d(128, eps=1e-05, momentum=0.1, affine=True, track_running_stats=True)\n",
       "  (bn3): BatchNorm1d(64, eps=1e-05, momentum=0.1, affine=True, track_running_stats=True)\n",
       ")"
      ]
     },
     "metadata": {},
     "execution_count": 8
    }
   ],
   "metadata": {}
  },
  {
   "cell_type": "markdown",
   "source": [
    "## Hyper Parameter selection\r\n",
    "\r\n",
    "* Learning Rate - Several learning rates were tested and provided this specific\r\n",
    "  architecture, a learning rate of 1e-3 for both Actor and Critic provided the \r\n",
    "  best performance without introducing unacceptable instability.\r\n",
    "* Weight Decay - Was found to have improved performance when introduced (as\r\n",
    "  opposed to when absent).\r\n",
    "* Gamma - A large gamma of 0.99 was selected again due to the desire to\r\n",
    "  encourage future rewards.\r\n",
    "* Learning Frequency - Despite several suggestions by other students, my model\r\n",
    "  observed improved performance with the highest learning frequency where the \r\n",
    "  target network is updated at every episode.\r\n",
    "* Number of Episodes - Unfortunately, the model architecture is not as \r\n",
    "  efficient as some other student models (some of which have solved the environment\r\n",
    "  in <2000 episodes), so a larger value was set to ensure the model does reach\r\n",
    "  the required average score."
   ],
   "metadata": {}
  },
  {
   "cell_type": "code",
   "execution_count": 9,
   "source": [
    "display(data)"
   ],
   "outputs": [
    {
     "output_type": "display_data",
     "data": {
      "text/plain": [
       "{'environment': {'ENV_FILE': '/data/Tennis_Linux_NoVis/Tennis',\n",
       "  'STATE_SIZE': 24,\n",
       "  'ACTION_SIZE': 2,\n",
       "  'UPPER_BOUND': 1.0,\n",
       "  'SOLVED': 0.5,\n",
       "  'ROOT_NAME': 'tennis',\n",
       "  'SEED': 42},\n",
       " 'trainer': {'N_EPISODES': 3000, 'MAX_T': 2000, 'WINDOW_LEN': 100},\n",
       " 'memory': {'BATCH_SIZE': 128, 'BUFFER_SIZE': 100000.0},\n",
       " 'agent': {'N_AGENTS': 2,\n",
       "  'LEARN_F': 1,\n",
       "  'GAMMA': 0.99,\n",
       "  'TAU': 0.001,\n",
       "  'LR_ACTOR': 0.001,\n",
       "  'LR_CRITIC': 0.001,\n",
       "  'WEIGHT_DECAY': 1e-06,\n",
       "  'ACTOR_HIDDEN': [128, 64],\n",
       "  'CRITIC_HIDDEN': [128, 64],\n",
       "  'ACTOR_ACT': 'relu',\n",
       "  'CRITIC_ACT': 'relu',\n",
       "  'ADD_NOISE': [True, True],\n",
       "  'NOISE_DECAY': 1.0},\n",
       " 'noise': {},\n",
       " 'OU': {'SIGMA': 0.01, 'MU': 0.0, 'THETA': 0.15},\n",
       " 'AP': {'INITIAL_STD': 0.1, 'DESIRED_ACTION_STD': 0.2, 'ADOPTION_COEF': 1.01}}"
      ]
     },
     "metadata": {}
    }
   ],
   "metadata": {}
  },
  {
   "cell_type": "code",
   "execution_count": 10,
   "source": [
    "trainer.magent.agents[0].device\r\n"
   ],
   "outputs": [
    {
     "output_type": "execute_result",
     "data": {
      "text/plain": [
       "device(type='cuda', index=0)"
      ]
     },
     "metadata": {},
     "execution_count": 10
    }
   ],
   "metadata": {}
  },
  {
   "cell_type": "code",
   "execution_count": 11,
   "source": [
    "display(trainer.magent.agents[0].actor_local)\r\n",
    "display(trainer.magent.agents[0].critic_local)"
   ],
   "outputs": [
    {
     "output_type": "display_data",
     "data": {
      "text/plain": [
       "DDPGActor(\n",
       "  (fc1): Linear(in_features=24, out_features=128, bias=True)\n",
       "  (fc2): Linear(in_features=128, out_features=64, bias=True)\n",
       "  (fc3): Linear(in_features=64, out_features=2, bias=True)\n",
       "  (bn1): BatchNorm1d(24, eps=1e-05, momentum=0.1, affine=True, track_running_stats=True)\n",
       "  (bn2): BatchNorm1d(128, eps=1e-05, momentum=0.1, affine=True, track_running_stats=True)\n",
       "  (bn3): BatchNorm1d(64, eps=1e-05, momentum=0.1, affine=True, track_running_stats=True)\n",
       ")"
      ]
     },
     "metadata": {}
    },
    {
     "output_type": "display_data",
     "data": {
      "text/plain": [
       "DDPGCritic(\n",
       "  (fc1): Linear(in_features=24, out_features=128, bias=True)\n",
       "  (fc2): Linear(in_features=130, out_features=64, bias=True)\n",
       "  (fc3): Linear(in_features=64, out_features=1, bias=True)\n",
       "  (bn1): BatchNorm1d(24, eps=1e-05, momentum=0.1, affine=True, track_running_stats=True)\n",
       "  (bn2): BatchNorm1d(130, eps=1e-05, momentum=0.1, affine=True, track_running_stats=True)\n",
       "  (bn3): BatchNorm1d(64, eps=1e-05, momentum=0.1, affine=True, track_running_stats=True)\n",
       "  (drop): Dropout(p=0.2)\n",
       ")"
      ]
     },
     "metadata": {}
    }
   ],
   "metadata": {}
  },
  {
   "cell_type": "code",
   "execution_count": 12,
   "source": [
    "if CLOUD:\r\n",
    "    with active_session():\r\n",
    "        scores = trainer.train()\r\n",
    "else:\r\n",
    "    scores = trainer.train()"
   ],
   "outputs": [
    {
     "output_type": "stream",
     "name": "stderr",
     "text": [
      "INFO:unityagents:\n",
      "'Academy' started successfully!\n",
      "Unity Academy name: Academy\n",
      "        Number of Brains: 1\n",
      "        Number of External Brains : 1\n",
      "        Lesson number : 0\n",
      "        Reset Parameters :\n",
      "\t\t\n",
      "Unity brain name: TennisBrain\n",
      "        Number of Visual Observations (per agent): 0\n",
      "        Vector Observation space type: continuous\n",
      "        Vector Observation space size (per agent): 8\n",
      "        Number of stacked Vector Observation: 3\n",
      "        Vector Action space type: continuous\n",
      "        Vector Action space size (per agent): 2\n",
      "        Vector Action descriptions: , \n"
     ]
    },
    {
     "output_type": "stream",
     "name": "stdout",
     "text": [
      "Ep 100\tBest (all): 0.1000\tMean (window): 0.0020\n",
      "Ep 200\tBest (all): 0.1000\tMean (window): 0.0084\n",
      "Ep 300\tBest (all): 0.1000\tMean (window): 0.0000\n",
      "Ep 400\tBest (all): 0.1000\tMean (window): 0.0000\n",
      "Ep 500\tBest (all): 0.1000\tMean (window): 0.0000\n",
      "Ep 600\tBest (all): 0.1000\tMean (window): 0.0020\n",
      "Ep 700\tBest (all): 0.1000\tMean (window): 0.0131\n",
      "Ep 800\tBest (all): 0.2000\tMean (window): 0.0421\n",
      "Ep 900\tBest (all): 0.3000\tMean (window): 0.0289\n",
      "Ep 1000\tBest (all): 0.3000\tMean (window): 0.0257\n",
      "Ep 1100\tBest (all): 0.3000\tMean (window): 0.0386\n",
      "Ep 1200\tBest (all): 0.3000\tMean (window): 0.0667\n",
      "Ep 1300\tBest (all): 0.4000\tMean (window): 0.0939\n",
      "Ep 1400\tBest (all): 0.5000\tMean (window): 0.0957\n",
      "Ep 1500\tBest (all): 0.5000\tMean (window): 0.1307\n",
      "Ep 1600\tBest (all): 0.5000\tMean (window): 0.0826\n",
      "Ep 1700\tBest (all): 0.5000\tMean (window): 0.0600\n",
      "Ep 1800\tBest (all): 0.5000\tMean (window): 0.0644\n",
      "Ep 1900\tBest (all): 0.5000\tMean (window): 0.0659\n",
      "Ep 2000\tBest (all): 0.6000\tMean (window): 0.0689\n",
      "Ep 2100\tBest (all): 0.6000\tMean (window): 0.1290\n",
      "Ep 2200\tBest (all): 0.6000\tMean (window): 0.1128\n",
      "Ep 2300\tBest (all): 0.6000\tMean (window): 0.1107\n",
      "Ep 2400\tBest (all): 0.6000\tMean (window): 0.1262\n",
      "Ep 2500\tBest (all): 2.1000\tMean (window): 0.2111\n",
      "Ep 2600\tBest (all): 2.1000\tMean (window): 0.4258\n",
      "Ep 2610\tBest (all): 2.6000\tMean (window): 0.5000\n",
      "Environment solved in 2610 episodes!\tAverage Score: 0.5000\n"
     ]
    }
   ],
   "metadata": {}
  },
  {
   "cell_type": "markdown",
   "source": [
    "## Visualize\r\n",
    "Visualize the scores of the trained agent. \r\n",
    "\r\n",
    "* The `i_map` parameter to rotate through the seaborn color palette (paired in \r\n",
    "  groups of 2)\r\n",
    "  * 0: blue\r\n",
    "  * 1: green\r\n",
    "  * 2: red\r\n",
    "  * 3: orange\r\n",
    "  * 4: purple"
   ],
   "metadata": {}
  },
  {
   "cell_type": "code",
   "execution_count": 13,
   "source": [
    "fig = plot_scores(scores)"
   ],
   "outputs": [
    {
     "output_type": "display_data",
     "data": {
      "image/png": "[encoded data removed]",
      "text/plain": [
       "<matplotlib.figure.Figure at 0x7f1864ea40f0>"
      ]
     },
     "metadata": {}
    }
   ],
   "metadata": {}
  },
  {
   "cell_type": "code",
   "execution_count": 14,
   "source": [
    "fig.savefig('runs/last_run.png');"
   ],
   "outputs": [],
   "metadata": {}
  },
  {
   "cell_type": "code",
   "execution_count": 15,
   "source": [
    "trainer.save_scores('runs/scores-checkpoint.pkl')"
   ],
   "outputs": [],
   "metadata": {}
  },
  {
   "cell_type": "markdown",
   "source": [
    "## Results\r\n",
    "\r\n",
    "The model is able to achieve the required average score of `>0.5` in `2610` \r\n",
    "episodes.\r\n",
    "\r\n",
    "## Future Working\r\n",
    "\r\n",
    "After implementing DDPG for two projects now, the identified shortcomings of\r\n",
    "DDPG have become apparent, particularly with the replay buffer. Oscillatory\r\n",
    "behavior within the Tennis model is common and I hypothesize is due to the \r\n",
    "model forgetting the valuable experiences when they run to the end of the \r\n",
    "buffer and having to relearn them. Implementing Proximal Policy Optimization\r\n",
    "or Asynchronous Actor Critic methods may demonstrate suppressed unstable \r\n",
    "behavior and certainly worth exploring - especially for similar online\r\n",
    "implementations that require agent stability."
   ],
   "metadata": {}
  },
  {
   "cell_type": "markdown",
   "source": [],
   "metadata": {}
  }
 ],
 "metadata": {
  "interpreter": {
   "hash": "15e440525741b4b683536cf3da481e83dd46ee608086a17f4cdb272058241969"
  },
  "kernelspec": {
   "name": "python3",
   "display_name": "Python 3.6.13 64-bit ('drlnd': conda)"
  },
  "language_info": {
   "codemirror_mode": {
    "name": "ipython",
    "version": 3
   },
   "file_extension": ".py",
   "mimetype": "text/x-python",
   "name": "python",
   "nbconvert_exporter": "python",
   "pygments_lexer": "ipython3",
   "version": "3.6.13"
  }
 },
 "nbformat": 4,
 "nbformat_minor": 2
}